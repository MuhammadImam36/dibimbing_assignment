{
 "cells": [
  {
   "cell_type": "code",
   "execution_count": 1,
   "id": "ce917ec4-1c7c-489f-9f2d-eca4ee63bed9",
   "metadata": {
    "tags": []
   },
   "outputs": [],
   "source": [
    "# Import Library\n",
    "import os\n",
    "import json\n",
    "from dotenv import load_dotenv\n",
    "from pathlib import Path\n",
    "from kafka import KafkaConsumer, TopicPartition"
   ]
  },
  {
   "cell_type": "code",
   "execution_count": 2,
   "id": "2c32cedb-2777-4af7-92d7-8ab9bdc1fd5a",
   "metadata": {},
   "outputs": [
    {
     "data": {
      "text/plain": [
       "True"
      ]
     },
     "execution_count": 2,
     "metadata": {},
     "output_type": "execute_result"
    }
   ],
   "source": [
    "# Load .env file\n",
    "dotenv_path = Path('/resources/.env')\n",
    "load_dotenv(dotenv_path=dotenv_path)"
   ]
  },
  {
   "cell_type": "code",
   "execution_count": 3,
   "id": "9b0cf033-3e07-47c5-a637-3bdac59e0ebe",
   "metadata": {},
   "outputs": [],
   "source": [
    "# Load .env variables\n",
    "kafka_host = os.getenv('KAFKA_HOST')\n",
    "kafka_topic = os.getenv('KAFKA_TOPIC_ASSIGNMENT')"
   ]
  },
  {
   "cell_type": "code",
   "execution_count": 4,
   "id": "b12f2cb0-ccef-4152-a586-99cb506e5c00",
   "metadata": {
    "tags": []
   },
   "outputs": [],
   "source": [
    "def safe_deserializer(m):\n",
    "    if isinstance(m, bytes):\n",
    "        m = m.decode('utf-8')\n",
    "    return json.loads(m)\n",
    "\n",
    "consumer_1 = KafkaConsumer(\n",
    "    kafka_topic,\n",
    "    group_id='assignment-group',\n",
    "    bootstrap_servers=[f'{kafka_host}:9092'],\n",
    "    value_deserializer=safe_deserializer,\n",
    "    auto_offset_reset='earliest',\n",
    "    enable_auto_commit=True,\n",
    "    consumer_timeout_ms=45000\n",
    ")"
   ]
  },
  {
   "cell_type": "code",
   "execution_count": 5,
   "id": "4b7a2fe8-a15b-44b8-a78a-1b594962e825",
   "metadata": {},
   "outputs": [],
   "source": [
    "# consumer_1.seek_to_beginning()"
   ]
  },
  {
   "cell_type": "code",
   "execution_count": 6,
   "id": "187f6eb3-8027-4c6c-8cd7-b6d10f3fafa8",
   "metadata": {},
   "outputs": [
    {
     "name": "stdout",
     "output_type": "stream",
     "text": [
      "⏳ Listening for login events...\n",
      "Consuming data from topic 'assignment_topic' partition 0\n",
      "[Guest] Success: 1 | Failed: 0\n",
      "[User] Success: 1 | Failed: 0\n",
      "[Admin] Success: 1 | Failed: 0\n",
      "[Guest] Success: 2 | Failed: 0\n",
      "[Guest] Success: 3 | Failed: 0\n",
      "[User] Success: 2 | Failed: 0\n",
      "[Guest] Success: 3 | Failed: 1\n",
      "[Admin] Success: 1 | Failed: 1\n",
      "[Guest] Success: 3 | Failed: 2\n",
      "[Admin] Success: 2 | Failed: 1\n",
      "[Guest] Success: 3 | Failed: 3\n",
      "[User] Success: 2 | Failed: 1\n",
      "\n",
      "Finished consuming 12 messages from topic 'assignment_topic' partition 0'\n"
     ]
    }
   ],
   "source": [
    "print(\"⏳ Listening for login events...\")\n",
    "\n",
    "login_stats = {}\n",
    "total_messages = 0\n",
    "first = True\n",
    "topic = None\n",
    "partition = None\n",
    "\n",
    "for i, message in enumerate(consumer_1):\n",
    "    \n",
    "    if first:\n",
    "        print(f\"Consuming data from topic '{message.topic}' partition {message.partition}\")\n",
    "        topic = message.topic\n",
    "        partition = message.partition\n",
    "        first = False\n",
    "        \n",
    "    event = message.value\n",
    "    role = event[\"role\"]\n",
    "    success = event[\"login_success\"]\n",
    "\n",
    "    if role not in login_stats:\n",
    "        login_stats[role] = {\"success\": 0, \"failed\": 0}\n",
    "\n",
    "    if success:\n",
    "        login_stats[role][\"success\"] += 1\n",
    "    else:\n",
    "        login_stats[role][\"failed\"] += 1\n",
    "\n",
    "    print(f\"[{role}] Success: {login_stats[role]['success']} | Failed: {login_stats[role]['failed']}\")\n",
    "    total_messages += 1\n",
    "    \n",
    "print(f\"\\nFinished consuming {total_messages} messages from topic '{topic}' partition {partition}'\")"
   ]
  }
 ],
 "metadata": {
  "kernelspec": {
   "display_name": "Python 3 (ipykernel)",
   "language": "python",
   "name": "python3"
  },
  "language_info": {
   "codemirror_mode": {
    "name": "ipython",
    "version": 3
   },
   "file_extension": ".py",
   "mimetype": "text/x-python",
   "name": "python",
   "nbconvert_exporter": "python",
   "pygments_lexer": "ipython3",
   "version": "3.10.10"
  }
 },
 "nbformat": 4,
 "nbformat_minor": 5
}
