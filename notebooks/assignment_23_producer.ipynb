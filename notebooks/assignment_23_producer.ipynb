{
 "cells": [
  {
   "cell_type": "code",
   "execution_count": 1,
   "id": "39658ae7-4f2b-45d2-9d57-deebaa0dccba",
   "metadata": {
    "tags": []
   },
   "outputs": [],
   "source": [
    "# Import Library\n",
    "import uuid\n",
    "import os\n",
    "import json\n",
    "import datetime\n",
    "import random\n",
    "from dotenv import load_dotenv\n",
    "from pathlib import Path\n",
    "from kafka import KafkaProducer\n",
    "from faker import Faker\n",
    "from time import sleep\n",
    "from typing import List"
   ]
  },
  {
   "cell_type": "code",
   "execution_count": 2,
   "id": "151e1015-0059-42cd-a389-420438684ab5",
   "metadata": {},
   "outputs": [
    {
     "data": {
      "text/plain": [
       "True"
      ]
     },
     "execution_count": 2,
     "metadata": {},
     "output_type": "execute_result"
    }
   ],
   "source": [
    "# Load .env file\n",
    "dotenv_path = Path('/resources/.env')\n",
    "load_dotenv(dotenv_path=dotenv_path)"
   ]
  },
  {
   "cell_type": "code",
   "execution_count": 3,
   "id": "57f71d70-3642-4885-a93a-c096d21e5750",
   "metadata": {},
   "outputs": [],
   "source": [
    "# Load .env variables\n",
    "kafka_host = os.getenv('KAFKA_HOST')\n",
    "kafka_topic = os.getenv('KAFKA_TOPIC_ASSIGNMENT')"
   ]
  },
  {
   "cell_type": "code",
   "execution_count": 4,
   "id": "7fc0b2ee-1511-4f3e-a0be-34d35a7b3140",
   "metadata": {},
   "outputs": [],
   "source": [
    "# Instantiate KafkaProducer\n",
    "producer = KafkaProducer(bootstrap_servers=f'{kafka_host}:9092')"
   ]
  },
  {
   "cell_type": "code",
   "execution_count": 5,
   "id": "330df661-db56-494e-9e30-42e0579e52c7",
   "metadata": {
    "tags": []
   },
   "outputs": [],
   "source": [
    "# Instantiate Faker\n",
    "faker = Faker()"
   ]
  },
  {
   "cell_type": "code",
   "execution_count": 6,
   "id": "56b905d8-7dc0-4cbd-a129-2d3304c9266c",
   "metadata": {},
   "outputs": [],
   "source": [
    "def get_data() -> List[str]:\n",
    "    return [\n",
    "        str(uuid.uuid4()), # Identifier\n",
    "        faker.name(), # Name\n",
    "        faker.random_element(elements=('Admin', 'User', 'Guest')), # Role\n",
    "        faker.random_element(elements=('CA', 'NY', 'TX', 'FL', 'IL', 'RJ')), # Region\n",
    "    ]"
   ]
  },
  {
   "cell_type": "code",
   "execution_count": 7,
   "id": "3c30b118-4c6f-406d-9b8e-3f47fe4cd183",
   "metadata": {},
   "outputs": [],
   "source": [
    "def create_login_event() -> dict:\n",
    "    fields = get_data()\n",
    "    event = {\n",
    "        \"user_id\": fields[0],\n",
    "        \"user_name\": fields[1],\n",
    "        \"role\": fields[2],\n",
    "        \"region\": fields[3],\n",
    "        \"login_time\": datetime.datetime.utcnow().isoformat(),\n",
    "        \"login_success\": random.choice([True, False])\n",
    "    }\n",
    "    return event"
   ]
  },
  {
   "cell_type": "code",
   "execution_count": 8,
   "id": "1fa5eb77-bad9-4253-a9f7-ff1dbae76d46",
   "metadata": {},
   "outputs": [],
   "source": [
    "def send_to_kafka() -> None:\n",
    "    j = 0\n",
    "    for i in range(1,21):\n",
    "        json_data = create_login_event()\n",
    "        value = json.dumps(json_data).encode(\"utf-8\")\n",
    "        response = producer.send(topic = kafka_topic, value = value)\n",
    "        if response.get():\n",
    "            j += 1\n",
    "            print(f\"{i}. Successfully send employee_id {json_data['user_id']} data to Kafka...\")\n",
    "        sleep(5)\n",
    "    print(f\"Successfully sent {j} data to Kafka...\")"
   ]
  },
  {
   "cell_type": "code",
   "execution_count": 9,
   "id": "23baeb67-bd98-44c5-bcbe-034cedc71337",
   "metadata": {},
   "outputs": [
    {
     "name": "stdout",
     "output_type": "stream",
     "text": [
      "1. Successfully send employee_id b58cb95e-7b1d-445e-a723-1d52c99df017 data to Kafka...\n",
      "2. Successfully send employee_id 51112ed7-6735-4a87-8cd2-1388a383bb31 data to Kafka...\n",
      "3. Successfully send employee_id 977db697-422b-43e8-87cd-b8974fd282d1 data to Kafka...\n",
      "4. Successfully send employee_id bbc5c0e8-f3d5-43de-aae0-256b1fee1c8f data to Kafka...\n",
      "5. Successfully send employee_id dccfa19b-84ed-4991-832e-26ea39d891c5 data to Kafka...\n",
      "6. Successfully send employee_id 44f78682-1dcd-4a26-b0f3-896fc0cb5f50 data to Kafka...\n",
      "7. Successfully send employee_id fe899825-433d-4413-888d-370bc91aceb3 data to Kafka...\n",
      "8. Successfully send employee_id 8db6a138-784f-448d-8ee1-55ac9990ca6f data to Kafka...\n",
      "9. Successfully send employee_id fea50d3a-c475-4f81-9623-77064850812c data to Kafka...\n",
      "10. Successfully send employee_id e9d6135d-6bde-4643-957f-455e97f32bf7 data to Kafka...\n",
      "11. Successfully send employee_id 1544f8bb-e6db-4bc0-8672-e60f2a0a6132 data to Kafka...\n",
      "12. Successfully send employee_id 484f02bd-80f6-4be3-8983-16e7e92ad63e data to Kafka...\n",
      "13. Successfully send employee_id 07f6846f-e233-4eb5-a4d9-9d8828505b40 data to Kafka...\n",
      "14. Successfully send employee_id 54365500-031a-40e1-bd92-58b5bb3f04b2 data to Kafka...\n",
      "15. Successfully send employee_id ed21e996-03ee-42e6-87c3-b4e9b0c03ded data to Kafka...\n",
      "16. Successfully send employee_id 741a7e71-7414-4763-9677-6f5c23821df7 data to Kafka...\n",
      "17. Successfully send employee_id a409df07-6147-408e-9d5b-e05cf92f9d11 data to Kafka...\n",
      "18. Successfully send employee_id 9a1abf15-30ff-41d3-9820-4dbf74111907 data to Kafka...\n",
      "19. Successfully send employee_id 35740e91-fd6d-49a2-8a6d-12199fa93567 data to Kafka...\n",
      "20. Successfully send employee_id 74d74040-e357-4c05-ae08-f32459d6ada4 data to Kafka...\n",
      "Successfully sent 20 data to Kafka...\n"
     ]
    }
   ],
   "source": [
    "send_to_kafka()"
   ]
  },
  {
   "cell_type": "code",
   "execution_count": null,
   "id": "04782812-8343-4925-8d65-7d23d406ae81",
   "metadata": {},
   "outputs": [],
   "source": []
  }
 ],
 "metadata": {
  "kernelspec": {
   "display_name": "Python 3 (ipykernel)",
   "language": "python",
   "name": "python3"
  },
  "language_info": {
   "codemirror_mode": {
    "name": "ipython",
    "version": 3
   },
   "file_extension": ".py",
   "mimetype": "text/x-python",
   "name": "python",
   "nbconvert_exporter": "python",
   "pygments_lexer": "ipython3",
   "version": "3.10.10"
  }
 },
 "nbformat": 4,
 "nbformat_minor": 5
}
