{
 "cells": [
  {
   "cell_type": "code",
   "execution_count": 27,
   "id": "432e4c82-7614-44d3-9a9c-5e1c65926e0b",
   "metadata": {},
   "outputs": [],
   "source": [
    "import os\n",
    "from pyspark.sql import SparkSession\n",
    "from dotenv import load_dotenv\n",
    "from pathlib import Path\n",
    "from pyspark.sql.types import StructType, StructField, StringType, IntegerType, LongType\n",
    "from pyspark.sql.functions import from_json, col, expr, to_timestamp, window, sum as _sum"
   ]
  },
  {
   "cell_type": "code",
   "execution_count": 2,
   "id": "7b5ab87d-5c27-4458-8e3b-ec21f6efd6ce",
   "metadata": {
    "tags": []
   },
   "outputs": [],
   "source": [
    "spark = (\n",
    "    SparkSession \n",
    "    .builder \n",
    "    .appName(\"Assignment_25\") \n",
    "    .config(\"spark.streaming.stopGracefullyOnShutdown\", True) \n",
    "    .config('spark.jars.packages', 'org.apache.spark:spark-sql-kafka-0-10_2.12:3.3.2')\n",
    "    .config(\"spark.sql.shuffle.partitions\", 4)\n",
    "    .master(\"local[*]\") \n",
    "    .getOrCreate()\n",
    ")"
   ]
  },
  {
   "cell_type": "code",
   "execution_count": 3,
   "id": "d95e2267-0038-4159-b53a-c458ddd75d87",
   "metadata": {
    "tags": []
   },
   "outputs": [
    {
     "data": {
      "text/html": [
       "\n",
       "            <div>\n",
       "                <p><b>SparkSession - in-memory</b></p>\n",
       "                \n",
       "        <div>\n",
       "            <p><b>SparkContext</b></p>\n",
       "\n",
       "            <p><a href=\"http://dibimbing-jupyter:4040\">Spark UI</a></p>\n",
       "\n",
       "            <dl>\n",
       "              <dt>Version</dt>\n",
       "                <dd><code>v3.3.2</code></dd>\n",
       "              <dt>Master</dt>\n",
       "                <dd><code>local[*]</code></dd>\n",
       "              <dt>AppName</dt>\n",
       "                <dd><code>Assignment_25</code></dd>\n",
       "            </dl>\n",
       "        </div>\n",
       "        \n",
       "            </div>\n",
       "        "
      ],
      "text/plain": [
       "<pyspark.sql.session.SparkSession at 0x7fa1283b6da0>"
      ]
     },
     "execution_count": 3,
     "metadata": {},
     "output_type": "execute_result"
    }
   ],
   "source": [
    "spark"
   ]
  },
  {
   "cell_type": "code",
   "execution_count": 4,
   "id": "ea64a5dc-3436-4d0b-a56c-99475400a3ed",
   "metadata": {
    "tags": []
   },
   "outputs": [
    {
     "data": {
      "text/plain": [
       "True"
      ]
     },
     "execution_count": 4,
     "metadata": {},
     "output_type": "execute_result"
    }
   ],
   "source": [
    "dotenv_path = Path('/resources/.env')\n",
    "load_dotenv(dotenv_path=dotenv_path)"
   ]
  },
  {
   "cell_type": "code",
   "execution_count": 5,
   "id": "70674510-6c29-409e-851c-39be35c6f722",
   "metadata": {
    "tags": []
   },
   "outputs": [],
   "source": [
    "kafka_host = os.getenv('KAFKA_HOST')\n",
    "kafka_topic = os.getenv('KAFKA_TOPIC_NAME')"
   ]
  },
  {
   "cell_type": "code",
   "execution_count": 6,
   "id": "b124ef96-02fe-4236-b8da-ec94fabf6ed1",
   "metadata": {
    "tags": []
   },
   "outputs": [],
   "source": [
    "kafka_df = (\n",
    "    spark\n",
    "    .readStream\n",
    "    .format(\"kafka\")\n",
    "    .option(\"kafka.bootstrap.servers\", f'{kafka_host}:9092')\n",
    "    .option(\"subscribe\", kafka_topic)\n",
    "    .option(\"startingOffsets\", \"earliest\")\n",
    "    .load()\n",
    ")"
   ]
  },
  {
   "cell_type": "code",
   "execution_count": 7,
   "id": "827335bd-6624-46e3-97a8-0abae63cfe6e",
   "metadata": {},
   "outputs": [],
   "source": [
    "schema = StructType(\n",
    "    [\n",
    "        StructField(\"order_id\", StringType(), True),\n",
    "        StructField(\"customer_id\", IntegerType(), True),\n",
    "        StructField(\"furniture\", StringType(), True),\n",
    "        StructField(\"color\", StringType(), True),\n",
    "        StructField(\"price\", LongType(), True),\n",
    "        StructField(\"ts\", StringType(), True)\n",
    "    ]\n",
    ")"
   ]
  },
  {
   "cell_type": "code",
   "execution_count": 22,
   "id": "f1b5dad6-84f9-4927-ba89-67f7bdd21e7a",
   "metadata": {
    "tags": []
   },
   "outputs": [],
   "source": [
    "parsed_df = (\n",
    "    kafka_df\n",
    "    .withColumn(\"value\", expr(\"cast(value as string)\"))\n",
    "    .select(\n",
    "        from_json(col(\"value\"), schema)\n",
    "        .alias(\"data\")\n",
    "    )\n",
    "    .select(\"data.*\")\n",
    ")\n",
    "\n",
    "parsed_df = parsed_df.withColumn(\"ts\", to_timestamp(\"ts\", \"HH:mm:ss\"))"
   ]
  },
  {
   "cell_type": "code",
   "execution_count": 28,
   "id": "398fdb1a-a674-4869-8fe0-385aaa95ddfd",
   "metadata": {
    "tags": []
   },
   "outputs": [],
   "source": [
    "agg_df = (\n",
    "    parsed_df\n",
    "    .withWatermark(\"ts\", \"210 minutes\")\n",
    "    .groupBy(window(col(\"ts\"), \"1 hour\"))\n",
    "    .agg(_sum(\"price\").alias(\"hourly_total\"))\n",
    "    .withColumn(\"timestamp\", col(\"window\").getField(\"end\"))\n",
    "    .select(\"timestamp\", \"hourly_total\")\n",
    "    .orderBy(\"timestamp\")\n",
    ")"
   ]
  },
  {
   "cell_type": "code",
   "execution_count": null,
   "id": "4d86422a-b883-44a0-a894-689223439b1d",
   "metadata": {},
   "outputs": [],
   "source": [
    "query = (\n",
    "    agg_df\n",
    "    .writeStream\n",
    "    .outputMode(\"complete\")\n",
    "    .format(\"console\")\n",
    "    .option(\"truncate\", False)\n",
    "    .option(\"checkpointLocation\", \"checkpoint_dir\")\n",
    "    .trigger(processingTime=\"5 minutes\")\n",
    "    .start()\n",
    ")\n",
    "query.awaitTermination()"
   ]
  },
  {
   "cell_type": "code",
   "execution_count": null,
   "id": "5ec486ce-a82b-44da-bbb9-054f81bcd6ab",
   "metadata": {},
   "outputs": [],
   "source": []
  }
 ],
 "metadata": {
  "kernelspec": {
   "display_name": "Python 3 (ipykernel)",
   "language": "python",
   "name": "python3"
  },
  "language_info": {
   "codemirror_mode": {
    "name": "ipython",
    "version": 3
   },
   "file_extension": ".py",
   "mimetype": "text/x-python",
   "name": "python",
   "nbconvert_exporter": "python",
   "pygments_lexer": "ipython3",
   "version": "3.10.10"
  }
 },
 "nbformat": 4,
 "nbformat_minor": 5
}
