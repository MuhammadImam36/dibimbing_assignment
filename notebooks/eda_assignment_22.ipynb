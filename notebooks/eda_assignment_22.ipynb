{
  "nbformat": 4,
  "nbformat_minor": 0,
  "metadata": {
    "colab": {
      "provenance": []
    },
    "kernelspec": {
      "name": "python3",
      "display_name": "Python 3"
    },
    "language_info": {
      "name": "python"
    }
  },
  "cells": [
    {
      "cell_type": "code",
      "execution_count": null,
      "metadata": {
        "colab": {
          "base_uri": "https://localhost:8080/"
        },
        "id": "nkHtZhpAS7Ro",
        "outputId": "2fdd5ea4-b55f-4733-f071-55fef0885a86"
      },
      "outputs": [
        {
          "output_type": "stream",
          "name": "stdout",
          "text": [
            "Requirement already satisfied: pyspark in /usr/local/lib/python3.11/dist-packages (3.5.5)\n",
            "Requirement already satisfied: py4j==0.10.9.7 in /usr/local/lib/python3.11/dist-packages (from pyspark) (0.10.9.7)\n"
          ]
        }
      ],
      "source": [
        "!pip install pyspark"
      ]
    },
    {
      "cell_type": "code",
      "source": [
        "from pyspark.sql import SparkSession\n",
        "spark = SparkSession.builder \\\n",
        "        .appName(\"eda_retail_table\") \\\n",
        "        .master(\"local[*]\") \\\n",
        "        .config(\"spark.sql.shuffle.partitions\", \"8\") \\\n",
        "        .getOrCreate()\n",
        "\n",
        "spark.sparkContext.setLogLevel(\"WARN\")"
      ],
      "metadata": {
        "id": "mBAF7veKTP9t"
      },
      "execution_count": null,
      "outputs": []
    },
    {
      "cell_type": "markdown",
      "source": [
        "# Data Transform and Clean"
      ],
      "metadata": {
        "id": "lbcik3csXZ41"
      }
    },
    {
      "cell_type": "code",
      "source": [
        "retail_df = spark.read.csv(\"/content/online-retail-dataset.csv\", header=True, inferSchema=True)\n",
        "\n",
        "retail_df.show(5)"
      ],
      "metadata": {
        "colab": {
          "base_uri": "https://localhost:8080/"
        },
        "id": "bTDJFUFdTwu9",
        "outputId": "617069c3-2d86-46fa-867a-b9cd39eaafa9"
      },
      "execution_count": null,
      "outputs": [
        {
          "output_type": "stream",
          "name": "stdout",
          "text": [
            "+---------+---------+--------------------+--------+--------------+---------+----------+--------------+\n",
            "|InvoiceNo|StockCode|         Description|Quantity|   InvoiceDate|UnitPrice|CustomerID|       Country|\n",
            "+---------+---------+--------------------+--------+--------------+---------+----------+--------------+\n",
            "|   536365|   85123A|WHITE HANGING HEA...|       6|12/1/2010 8:26|     2.55|     17850|United Kingdom|\n",
            "|   536365|    71053| WHITE METAL LANTERN|       6|12/1/2010 8:26|     3.39|     17850|United Kingdom|\n",
            "|   536365|   84406B|CREAM CUPID HEART...|       8|12/1/2010 8:26|     2.75|     17850|United Kingdom|\n",
            "|   536365|   84029G|KNITTED UNION FLA...|       6|12/1/2010 8:26|     3.39|     17850|United Kingdom|\n",
            "|   536365|   84029E|RED WOOLLY HOTTIE...|       6|12/1/2010 8:26|     3.39|     17850|United Kingdom|\n",
            "+---------+---------+--------------------+--------+--------------+---------+----------+--------------+\n",
            "only showing top 5 rows\n",
            "\n"
          ]
        }
      ]
    },
    {
      "cell_type": "code",
      "source": [
        "retail_df.printSchema()"
      ],
      "metadata": {
        "colab": {
          "base_uri": "https://localhost:8080/"
        },
        "id": "wWPxKstSUCLJ",
        "outputId": "947358bf-f6f0-4f3a-98b5-2306b159f373"
      },
      "execution_count": null,
      "outputs": [
        {
          "output_type": "stream",
          "name": "stdout",
          "text": [
            "root\n",
            " |-- InvoiceNo: string (nullable = true)\n",
            " |-- StockCode: string (nullable = true)\n",
            " |-- Description: string (nullable = true)\n",
            " |-- Quantity: integer (nullable = true)\n",
            " |-- InvoiceDate: string (nullable = true)\n",
            " |-- UnitPrice: double (nullable = true)\n",
            " |-- CustomerID: integer (nullable = true)\n",
            " |-- Country: string (nullable = true)\n",
            "\n"
          ]
        }
      ]
    },
    {
      "cell_type": "code",
      "source": [
        "from pyspark.sql.functions import col, to_timestamp, sum, when, first\n",
        "\n",
        "retail_df = retail_df.withColumn(\n",
        "    \"InvoiceNo\",\n",
        "    col(\"InvoiceNo\").cast(\"INT\"))\n",
        "\n",
        "\n",
        "retail_df = retail_df.withColumn(\n",
        "    \"InvoiceDate\",\n",
        "    to_timestamp(\"InvoiceDate\", \"M/d/yyyy H:mm\")\n",
        "    )"
      ],
      "metadata": {
        "id": "dTstcw1WVI_A"
      },
      "execution_count": null,
      "outputs": []
    },
    {
      "cell_type": "code",
      "source": [
        "retail_df.printSchema()"
      ],
      "metadata": {
        "colab": {
          "base_uri": "https://localhost:8080/"
        },
        "id": "UNgauRyZVdSa",
        "outputId": "0f3685da-1aa8-4d45-8afb-a9136d4b46f8"
      },
      "execution_count": null,
      "outputs": [
        {
          "output_type": "stream",
          "name": "stdout",
          "text": [
            "root\n",
            " |-- InvoiceNo: integer (nullable = true)\n",
            " |-- StockCode: string (nullable = true)\n",
            " |-- Description: string (nullable = true)\n",
            " |-- Quantity: integer (nullable = true)\n",
            " |-- InvoiceDate: timestamp (nullable = true)\n",
            " |-- UnitPrice: double (nullable = true)\n",
            " |-- CustomerID: integer (nullable = true)\n",
            " |-- Country: string (nullable = true)\n",
            "\n"
          ]
        }
      ]
    },
    {
      "cell_type": "code",
      "source": [
        "retail_df.show(5)"
      ],
      "metadata": {
        "colab": {
          "base_uri": "https://localhost:8080/"
        },
        "id": "pVKdD8xYbH4S",
        "outputId": "073a369c-f466-45f3-e57a-d2036b611e99"
      },
      "execution_count": null,
      "outputs": [
        {
          "output_type": "stream",
          "name": "stdout",
          "text": [
            "+---------+---------+--------------------+--------+-------------------+---------+----------+--------------+\n",
            "|InvoiceNo|StockCode|         Description|Quantity|        InvoiceDate|UnitPrice|CustomerID|       Country|\n",
            "+---------+---------+--------------------+--------+-------------------+---------+----------+--------------+\n",
            "|   536365|   85123A|WHITE HANGING HEA...|       6|2010-12-01 08:26:00|     2.55|     17850|United Kingdom|\n",
            "|   536365|    71053| WHITE METAL LANTERN|       6|2010-12-01 08:26:00|     3.39|     17850|United Kingdom|\n",
            "|   536365|   84406B|CREAM CUPID HEART...|       8|2010-12-01 08:26:00|     2.75|     17850|United Kingdom|\n",
            "|   536365|   84029G|KNITTED UNION FLA...|       6|2010-12-01 08:26:00|     3.39|     17850|United Kingdom|\n",
            "|   536365|   84029E|RED WOOLLY HOTTIE...|       6|2010-12-01 08:26:00|     3.39|     17850|United Kingdom|\n",
            "+---------+---------+--------------------+--------+-------------------+---------+----------+--------------+\n",
            "only showing top 5 rows\n",
            "\n"
          ]
        }
      ]
    },
    {
      "cell_type": "code",
      "source": [
        "retail_df.select([\n",
        "    sum(col(c).isNull().cast(\"int\")).alias(c)\n",
        "    for c in retail_df.columns\n",
        "]).show()"
      ],
      "metadata": {
        "colab": {
          "base_uri": "https://localhost:8080/"
        },
        "id": "47ORPYHqdZPK",
        "outputId": "adac3a17-d198-4dc4-8443-d978e47ff912"
      },
      "execution_count": null,
      "outputs": [
        {
          "output_type": "stream",
          "name": "stdout",
          "text": [
            "+---------+---------+-----------+--------+-----------+---------+----------+-------+\n",
            "|InvoiceNo|StockCode|Description|Quantity|InvoiceDate|UnitPrice|CustomerID|Country|\n",
            "+---------+---------+-----------+--------+-----------+---------+----------+-------+\n",
            "|     9291|        0|       1454|       0|          0|        0|    135080|      0|\n",
            "+---------+---------+-----------+--------+-----------+---------+----------+-------+\n",
            "\n"
          ]
        }
      ]
    },
    {
      "cell_type": "code",
      "source": [
        "retail_df.filter(col('CustomerID').isNull()).show()"
      ],
      "metadata": {
        "colab": {
          "base_uri": "https://localhost:8080/"
        },
        "id": "9JN5-h7ZcVft",
        "outputId": "5439ef5a-2808-45ab-cdc7-69b6d1903d6e"
      },
      "execution_count": null,
      "outputs": [
        {
          "output_type": "stream",
          "name": "stdout",
          "text": [
            "+---------+---------+--------------------+--------+-------------------+---------+----------+--------------+\n",
            "|InvoiceNo|StockCode|         Description|Quantity|        InvoiceDate|UnitPrice|CustomerID|       Country|\n",
            "+---------+---------+--------------------+--------+-------------------+---------+----------+--------------+\n",
            "|   536414|    22139|                NULL|      56|2010-12-01 11:52:00|      0.0|      NULL|United Kingdom|\n",
            "|   536544|    21773|DECORATIVE ROSE B...|       1|2010-12-01 14:32:00|     2.51|      NULL|United Kingdom|\n",
            "|   536544|    21774|DECORATIVE CATS B...|       2|2010-12-01 14:32:00|     2.51|      NULL|United Kingdom|\n",
            "|   536544|    21786|  POLKADOT RAIN HAT |       4|2010-12-01 14:32:00|     0.85|      NULL|United Kingdom|\n",
            "|   536544|    21787|RAIN PONCHO RETRO...|       2|2010-12-01 14:32:00|     1.66|      NULL|United Kingdom|\n",
            "|   536544|    21790|  VINTAGE SNAP CARDS|       9|2010-12-01 14:32:00|     1.66|      NULL|United Kingdom|\n",
            "|   536544|    21791|VINTAGE HEADS AND...|       2|2010-12-01 14:32:00|     2.51|      NULL|United Kingdom|\n",
            "|   536544|    21801|CHRISTMAS TREE DE...|      10|2010-12-01 14:32:00|     0.43|      NULL|United Kingdom|\n",
            "|   536544|    21802|CHRISTMAS TREE HE...|       9|2010-12-01 14:32:00|     0.43|      NULL|United Kingdom|\n",
            "|   536544|    21803|CHRISTMAS TREE ST...|      11|2010-12-01 14:32:00|     0.43|      NULL|United Kingdom|\n",
            "|   536544|    21809|CHRISTMAS HANGING...|       1|2010-12-01 14:32:00|     2.51|      NULL|United Kingdom|\n",
            "|   536544|    21810|CHRISTMAS HANGING...|       3|2010-12-01 14:32:00|     2.51|      NULL|United Kingdom|\n",
            "|   536544|    21811|CHRISTMAS HANGING...|       1|2010-12-01 14:32:00|     2.51|      NULL|United Kingdom|\n",
            "|   536544|    21821|GLITTER STAR GARL...|       1|2010-12-01 14:32:00|     7.62|      NULL|United Kingdom|\n",
            "|   536544|    21822|GLITTER CHRISTMAS...|       1|2010-12-01 14:32:00|     4.21|      NULL|United Kingdom|\n",
            "|   536544|    21823|PAINTED METAL HEA...|       2|2010-12-01 14:32:00|     2.98|      NULL|United Kingdom|\n",
            "|   536544|    21844|   RED RETROSPOT MUG|       2|2010-12-01 14:32:00|     5.91|      NULL|United Kingdom|\n",
            "|   536544|    21851|LILAC DIAMANTE PE...|       1|2010-12-01 14:32:00|     4.21|      NULL|United Kingdom|\n",
            "|   536544|    21870|I CAN ONLY PLEASE...|       1|2010-12-01 14:32:00|     3.36|      NULL|United Kingdom|\n",
            "|   536544|    21871| SAVE THE PLANET MUG|       5|2010-12-01 14:32:00|     3.36|      NULL|United Kingdom|\n",
            "+---------+---------+--------------------+--------+-------------------+---------+----------+--------------+\n",
            "only showing top 20 rows\n",
            "\n"
          ]
        }
      ]
    },
    {
      "cell_type": "code",
      "source": [
        "retail_df = retail_df.filter(col(\"StockCode\").rlike(\"^[0-9]+[A-Z]?$\"))"
      ],
      "metadata": {
        "id": "u_Nzzn8_UtiB"
      },
      "execution_count": null,
      "outputs": []
    },
    {
      "cell_type": "code",
      "source": [
        "retail_df.select([\n",
        "    sum(col(c).isNull().cast(\"int\")).alias(c)\n",
        "    for c in retail_df.columns\n",
        "]).show()"
      ],
      "metadata": {
        "colab": {
          "base_uri": "https://localhost:8080/"
        },
        "id": "BjhHkhtNUyx5",
        "outputId": "010e717a-dc74-41a9-8e4d-e8390c62c22a"
      },
      "execution_count": null,
      "outputs": [
        {
          "output_type": "stream",
          "name": "stdout",
          "text": [
            "+---------+---------+-----------+--------+-----------+---------+----------+-------+\n",
            "|InvoiceNo|StockCode|Description|Quantity|InvoiceDate|UnitPrice|CustomerID|Country|\n",
            "+---------+---------+-----------+--------+-----------+---------+----------+-------+\n",
            "|     8699|        0|       1439|       0|          0|        0|    132031|      0|\n",
            "+---------+---------+-----------+--------+-----------+---------+----------+-------+\n",
            "\n"
          ]
        }
      ]
    },
    {
      "cell_type": "code",
      "source": [
        "retail_df = retail_df.fillna({\"InvoiceNo\": 0, \"CustomerID\" : 0, \"Description\" : \"None temp\"})"
      ],
      "metadata": {
        "id": "xLFWrYcteCv3"
      },
      "execution_count": null,
      "outputs": []
    },
    {
      "cell_type": "code",
      "source": [
        "retail_df.select(['StockCode']).distinct().count()"
      ],
      "metadata": {
        "colab": {
          "base_uri": "https://localhost:8080/"
        },
        "id": "4C7SmkMQi6r9",
        "outputId": "64267058-73e6-4842-a7ad-53320f9525fa"
      },
      "execution_count": null,
      "outputs": [
        {
          "output_type": "execute_result",
          "data": {
            "text/plain": [
              "3923"
            ]
          },
          "metadata": {},
          "execution_count": 13
        }
      ]
    },
    {
      "cell_type": "code",
      "source": [
        "retail_df.select(['Description']).distinct().count()"
      ],
      "metadata": {
        "colab": {
          "base_uri": "https://localhost:8080/"
        },
        "id": "2wTyQmUCp8TJ",
        "outputId": "e8742b61-caf0-454f-cda2-192b7491aeaf"
      },
      "execution_count": null,
      "outputs": [
        {
          "output_type": "execute_result",
          "data": {
            "text/plain": [
              "4196"
            ]
          },
          "metadata": {},
          "execution_count": 14
        }
      ]
    },
    {
      "cell_type": "code",
      "source": [
        "# description_lookup = retail_df.filter(col(\"Description\").isNotNull()) \\\n",
        "#     .groupBy(\"StockCode\") \\\n",
        "#     .agg(first(\"Description\", ignorenulls=True).alias(\"Description_filled\"))\n",
        "\n",
        "# retail_df = retail_df.join(description_lookup, on=\"StockCode\", how=\"left\")\n",
        "\n",
        "# retail_df = retail_df.withColumn(\n",
        "#     \"Description\",\n",
        "#     when(col(\"Description\").isNull(), col(\"Description_filled\"))\n",
        "#     .otherwise(col(\"Description\"))\n",
        "# )\n",
        "\n",
        "# retail_df = retail_df.drop(\"Description_filled\")"
      ],
      "metadata": {
        "id": "_-n3agC5iYg2"
      },
      "execution_count": null,
      "outputs": []
    },
    {
      "cell_type": "code",
      "source": [
        "retail_df.sort('Quantity', ascending = True).show(5)"
      ],
      "metadata": {
        "colab": {
          "base_uri": "https://localhost:8080/"
        },
        "id": "dXdfxSPWW9cs",
        "outputId": "abea3260-ede8-4b56-98f8-c2bbe38fa61b"
      },
      "execution_count": null,
      "outputs": [
        {
          "output_type": "stream",
          "name": "stdout",
          "text": [
            "+---------+---------+--------------------+--------+-------------------+---------+----------+--------------+\n",
            "|InvoiceNo|StockCode|         Description|Quantity|        InvoiceDate|UnitPrice|CustomerID|       Country|\n",
            "+---------+---------+--------------------+--------+-------------------+---------+----------+--------------+\n",
            "|        0|    23843|PAPER CRAFT , LIT...|  -80995|2011-12-09 09:27:00|     2.08|     16446|United Kingdom|\n",
            "|        0|    23166|MEDIUM CERAMIC TO...|  -74215|2011-01-18 10:17:00|     1.04|     12346|United Kingdom|\n",
            "|   556690|    23005|printing smudges/...|   -9600|2011-06-14 10:37:00|      0.0|         0|United Kingdom|\n",
            "|   556691|    23005|printing smudges/...|   -9600|2011-06-14 10:37:00|      0.0|         0|United Kingdom|\n",
            "|        0|    84347|ROTATING SILVER A...|   -9360|2010-12-02 14:23:00|     0.03|     15838|United Kingdom|\n",
            "+---------+---------+--------------------+--------+-------------------+---------+----------+--------------+\n",
            "only showing top 5 rows\n",
            "\n"
          ]
        }
      ]
    },
    {
      "cell_type": "code",
      "source": [
        "retail_df = retail_df.filter((col(\"Quantity\") > 0) & (col(\"UnitPrice\") > 0)).sort('InvoiceDate', ascending = True)"
      ],
      "metadata": {
        "id": "VwcO8r6zYBj0"
      },
      "execution_count": null,
      "outputs": []
    },
    {
      "cell_type": "code",
      "source": [
        "retail_df.select([\n",
        "    sum(col(c).isNull().cast(\"int\")).alias(c)\n",
        "    for c in retail_df.columns\n",
        "]).show()"
      ],
      "metadata": {
        "colab": {
          "base_uri": "https://localhost:8080/"
        },
        "id": "rloGu8T1lBe2",
        "outputId": "3d0f77d5-92fe-49f7-dc2f-2aa2d757ba4b"
      },
      "execution_count": null,
      "outputs": [
        {
          "output_type": "stream",
          "name": "stdout",
          "text": [
            "+---------+---------+-----------+--------+-----------+---------+----------+-------+\n",
            "|InvoiceNo|StockCode|Description|Quantity|InvoiceDate|UnitPrice|CustomerID|Country|\n",
            "+---------+---------+-----------+--------+-----------+---------+----------+-------+\n",
            "|        0|        0|          0|       0|          0|        0|         0|      0|\n",
            "+---------+---------+-----------+--------+-----------+---------+----------+-------+\n",
            "\n"
          ]
        }
      ]
    },
    {
      "cell_type": "code",
      "source": [
        "from pyspark.sql.functions import year, month, dayofmonth, dayofweek, hour, quarter\n",
        "\n",
        "retail_df = retail_df.withColumn(\"Year\", year(\"InvoiceDate\")) \\\n",
        "    .withColumn(\"Month\", month(\"InvoiceDate\")) \\\n",
        "    .withColumn(\"Day\", dayofmonth(\"InvoiceDate\")) \\\n",
        "    .withColumn(\"DayOfWeek\", dayofweek(\"InvoiceDate\")) \\\n",
        "    .withColumn(\"Hour\", hour(\"InvoiceDate\")) \\\n",
        "    .withColumn(\"Quarter\", quarter(\"InvoiceDate\"))\n",
        "\n",
        "retail_df.show()"
      ],
      "metadata": {
        "colab": {
          "base_uri": "https://localhost:8080/"
        },
        "id": "gjAjLDNDm9Ji",
        "outputId": "0875531e-ad08-450d-ba58-5729db139436"
      },
      "execution_count": null,
      "outputs": [
        {
          "output_type": "stream",
          "name": "stdout",
          "text": [
            "+---------+---------+--------------------+--------+-------------------+---------+----------+--------------+----+-----+---+---------+----+-------+\n",
            "|InvoiceNo|StockCode|         Description|Quantity|        InvoiceDate|UnitPrice|CustomerID|       Country|Year|Month|Day|DayOfWeek|Hour|Quarter|\n",
            "+---------+---------+--------------------+--------+-------------------+---------+----------+--------------+----+-----+---+---------+----+-------+\n",
            "|   536365|   85123A|WHITE HANGING HEA...|       6|2010-12-01 08:26:00|     2.55|     17850|United Kingdom|2010|   12|  1|        4|   8|      4|\n",
            "|   536365|    71053| WHITE METAL LANTERN|       6|2010-12-01 08:26:00|     3.39|     17850|United Kingdom|2010|   12|  1|        4|   8|      4|\n",
            "|   536365|   84406B|CREAM CUPID HEART...|       8|2010-12-01 08:26:00|     2.75|     17850|United Kingdom|2010|   12|  1|        4|   8|      4|\n",
            "|   536365|   84029G|KNITTED UNION FLA...|       6|2010-12-01 08:26:00|     3.39|     17850|United Kingdom|2010|   12|  1|        4|   8|      4|\n",
            "|   536365|   84029E|RED WOOLLY HOTTIE...|       6|2010-12-01 08:26:00|     3.39|     17850|United Kingdom|2010|   12|  1|        4|   8|      4|\n",
            "|   536365|    22752|SET 7 BABUSHKA NE...|       2|2010-12-01 08:26:00|     7.65|     17850|United Kingdom|2010|   12|  1|        4|   8|      4|\n",
            "|   536365|    21730|GLASS STAR FROSTE...|       6|2010-12-01 08:26:00|     4.25|     17850|United Kingdom|2010|   12|  1|        4|   8|      4|\n",
            "|   536366|    22633|HAND WARMER UNION...|       6|2010-12-01 08:28:00|     1.85|     17850|United Kingdom|2010|   12|  1|        4|   8|      4|\n",
            "|   536366|    22632|HAND WARMER RED P...|       6|2010-12-01 08:28:00|     1.85|     17850|United Kingdom|2010|   12|  1|        4|   8|      4|\n",
            "|   536367|    84879|ASSORTED COLOUR B...|      32|2010-12-01 08:34:00|     1.69|     13047|United Kingdom|2010|   12|  1|        4|   8|      4|\n",
            "|   536367|    22745|POPPY'S PLAYHOUSE...|       6|2010-12-01 08:34:00|      2.1|     13047|United Kingdom|2010|   12|  1|        4|   8|      4|\n",
            "|   536367|    22748|POPPY'S PLAYHOUSE...|       6|2010-12-01 08:34:00|      2.1|     13047|United Kingdom|2010|   12|  1|        4|   8|      4|\n",
            "|   536367|    22749|FELTCRAFT PRINCES...|       8|2010-12-01 08:34:00|     3.75|     13047|United Kingdom|2010|   12|  1|        4|   8|      4|\n",
            "|   536367|    22310|IVORY KNITTED MUG...|       6|2010-12-01 08:34:00|     1.65|     13047|United Kingdom|2010|   12|  1|        4|   8|      4|\n",
            "|   536367|    84969|BOX OF 6 ASSORTED...|       6|2010-12-01 08:34:00|     4.25|     13047|United Kingdom|2010|   12|  1|        4|   8|      4|\n",
            "|   536367|    22623|BOX OF VINTAGE JI...|       3|2010-12-01 08:34:00|     4.95|     13047|United Kingdom|2010|   12|  1|        4|   8|      4|\n",
            "|   536367|    22622|BOX OF VINTAGE AL...|       2|2010-12-01 08:34:00|     9.95|     13047|United Kingdom|2010|   12|  1|        4|   8|      4|\n",
            "|   536367|    21754|HOME BUILDING BLO...|       3|2010-12-01 08:34:00|     5.95|     13047|United Kingdom|2010|   12|  1|        4|   8|      4|\n",
            "|   536367|    21755|LOVE BUILDING BLO...|       3|2010-12-01 08:34:00|     5.95|     13047|United Kingdom|2010|   12|  1|        4|   8|      4|\n",
            "|   536367|    21777|RECIPE BOX WITH M...|       4|2010-12-01 08:34:00|     7.95|     13047|United Kingdom|2010|   12|  1|        4|   8|      4|\n",
            "+---------+---------+--------------------+--------+-------------------+---------+----------+--------------+----+-----+---+---------+----+-------+\n",
            "only showing top 20 rows\n",
            "\n"
          ]
        }
      ]
    },
    {
      "cell_type": "code",
      "source": [
        "retail_df.sort('Quantity', ascending = False).show(5, truncate = False)"
      ],
      "metadata": {
        "colab": {
          "base_uri": "https://localhost:8080/"
        },
        "id": "FwhQcFNYUFHg",
        "outputId": "9c702ded-2190-4928-a210-17e014f15208"
      },
      "execution_count": null,
      "outputs": [
        {
          "output_type": "stream",
          "name": "stdout",
          "text": [
            "+---------+---------+---------------------------------+--------+-------------------+---------+----------+--------------+----+-----+---+---------+----+-------+\n",
            "|InvoiceNo|StockCode|Description                      |Quantity|InvoiceDate        |UnitPrice|CustomerID|Country       |Year|Month|Day|DayOfWeek|Hour|Quarter|\n",
            "+---------+---------+---------------------------------+--------+-------------------+---------+----------+--------------+----+-----+---+---------+----+-------+\n",
            "|581483   |23843    |PAPER CRAFT , LITTLE BIRDIE      |80995   |2011-12-09 09:15:00|2.08     |16446     |United Kingdom|2011|12   |9  |6        |9   |4      |\n",
            "|541431   |23166    |MEDIUM CERAMIC TOP STORAGE JAR   |74215   |2011-01-18 10:01:00|1.04     |12346     |United Kingdom|2011|1    |18 |3        |10  |1      |\n",
            "|573008   |84077    |WORLD WAR 2 GLIDERS ASSTD DESIGNS|4800    |2011-10-27 12:26:00|0.21     |12901     |United Kingdom|2011|10   |27 |5        |12  |4      |\n",
            "|554868   |22197    |SMALL POPCORN HOLDER             |4300    |2011-05-27 10:52:00|0.72     |13135     |United Kingdom|2011|5    |27 |6        |10  |2      |\n",
            "|544612   |22053    |EMPIRE DESIGN ROSETTE            |3906    |2011-02-22 10:43:00|0.82     |18087     |United Kingdom|2011|2    |22 |3        |10  |1      |\n",
            "+---------+---------+---------------------------------+--------+-------------------+---------+----------+--------------+----+-----+---+---------+----+-------+\n",
            "only showing top 5 rows\n",
            "\n"
          ]
        }
      ]
    },
    {
      "cell_type": "markdown",
      "source": [
        "# Data Analysis"
      ],
      "metadata": {
        "id": "ivaue_rxXXhW"
      }
    },
    {
      "cell_type": "markdown",
      "source": [
        "## Use Case: Customer Segmentation using RFM Analysis"
      ],
      "metadata": {
        "id": "oSSOboADcxl9"
      }
    },
    {
      "cell_type": "code",
      "source": [
        "retail_df.createOrReplaceTempView(\"retail\")"
      ],
      "metadata": {
        "id": "W9jUf8Y_0Gww"
      },
      "execution_count": null,
      "outputs": []
    },
    {
      "cell_type": "code",
      "source": [
        "query = \"\"\"\n",
        "WITH max_date AS (\n",
        "  SELECT MAX(InvoiceDate) AS max_date FROM retail\n",
        "),\n",
        "rfm AS (\n",
        "  SELECT\n",
        "    CustomerID,\n",
        "    DATEDIFF((SELECT max_date FROM max_date), MAX(InvoiceDate)) AS Recency,\n",
        "    COUNT(DISTINCT InvoiceNo) AS Frequency,\n",
        "    ROUND(SUM(Quantity * UnitPrice), 2) AS Monetary\n",
        "  FROM retail\n",
        "  GROUP BY CustomerID\n",
        "),\n",
        "scored_rfm AS (\n",
        "  SELECT *,\n",
        "    CASE\n",
        "      WHEN Recency <= 30 THEN 3\n",
        "      WHEN Recency <= 90 THEN 2\n",
        "      ELSE 1\n",
        "    END AS R_Score,\n",
        "    CASE\n",
        "      WHEN Frequency >= 10 THEN 3\n",
        "      WHEN Frequency >= 5 THEN 2\n",
        "      ELSE 1\n",
        "    END AS F_Score,\n",
        "    CASE\n",
        "      WHEN Monetary >= 1000 THEN 3\n",
        "      WHEN Monetary >= 500 THEN 2\n",
        "      ELSE 1\n",
        "    END AS M_Score\n",
        "  FROM rfm\n",
        ")\n",
        "SELECT *,\n",
        "       R_Score + F_Score + M_Score AS RFM_Score,\n",
        "       CASE\n",
        "         WHEN (R_Score + F_Score + M_Score) >= 8 THEN 'High Value'\n",
        "         WHEN (R_Score + F_Score + M_Score) >= 5 THEN 'Mid Value'\n",
        "         ELSE 'Low Value'\n",
        "       END AS Segment\n",
        "FROM scored_rfm\n",
        "\"\"\"\n",
        "rfm_df = spark.sql(query)\n",
        "rfm_df.show()\n",
        "rfm_pdf = rfm_df.toPandas()\n",
        "rfm_pdf.to_csv(\"rfm_customer_data.csv\", index=False)"
      ],
      "metadata": {
        "colab": {
          "base_uri": "https://localhost:8080/"
        },
        "id": "ct69fXNsXSnE",
        "outputId": "3e48ecea-0193-4ef0-f390-438a25d54382"
      },
      "execution_count": null,
      "outputs": [
        {
          "output_type": "stream",
          "name": "stdout",
          "text": [
            "+----------+-------+---------+--------+-------+-------+-------+---------+----------+\n",
            "|CustomerID|Recency|Frequency|Monetary|R_Score|F_Score|M_Score|RFM_Score|   Segment|\n",
            "+----------+-------+---------+--------+-------+-------+-------+---------+----------+\n",
            "|     17850|    372|       34| 5272.41|      1|      3|      3|        7| Mid Value|\n",
            "|     12915|    148|        2|  363.65|      1|      1|      1|        3| Low Value|\n",
            "|     17802|     82|        3| 1285.04|      2|      1|      3|        6| Mid Value|\n",
            "|     16814|     14|       21|  6487.3|      3|      3|      3|        9|High Value|\n",
            "|     15018|     38|        3|  496.21|      2|      1|      1|        4| Low Value|\n",
            "|     15024|      9|       10| 1661.33|      3|      3|      3|        9|High Value|\n",
            "|     15021|      8|        9| 1902.92|      3|      2|      3|        8|High Value|\n",
            "|     13777|      0|       33|25525.21|      3|      3|      3|        9|High Value|\n",
            "|     13090|      8|       13| 8895.82|      3|      3|      3|        9|High Value|\n",
            "|     13969|      7|       18| 9053.94|      3|      3|      3|        9|High Value|\n",
            "|     14625|    196|        2|  899.63|      1|      1|      2|        4| Low Value|\n",
            "|     16083|    100|        2| 1317.62|      1|      1|      3|        5| Mid Value|\n",
            "|     14057|     23|       17| 6217.96|      3|      3|      3|        9|High Value|\n",
            "|     15727|     16|        7| 5178.96|      3|      2|      3|        8|High Value|\n",
            "|     14031|      7|       19|16727.56|      3|      3|      3|        9|High Value|\n",
            "|     16153|     49|        5| 1824.23|      2|      2|      3|        7| Mid Value|\n",
            "|     14135|      1|       15| 4690.31|      3|      3|      3|        9|High Value|\n",
            "|     15044|     19|       17| 7688.33|      3|      3|      3|        9|High Value|\n",
            "|     15164|     68|        3|  843.05|      2|      1|      2|        5| Mid Value|\n",
            "|     16013|      3|       47| 37130.6|      3|      3|      3|        9|High Value|\n",
            "+----------+-------+---------+--------+-------+-------+-------+---------+----------+\n",
            "only showing top 20 rows\n",
            "\n"
          ]
        }
      ]
    }
  ]
}